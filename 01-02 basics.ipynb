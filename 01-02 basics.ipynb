{
 "cells": [
  {
   "cell_type": "code",
   "execution_count": 4,
   "id": "9b31aaac-fbe4-43e5-a4c5-a4d2577145bb",
   "metadata": {},
   "outputs": [
    {
     "ename": "SyntaxError",
     "evalue": "expression expected after dictionary key and ':' (644384231.py, line 1)",
     "output_type": "error",
     "traceback": [
      "\u001b[0;36m  Cell \u001b[0;32mIn[4], line 1\u001b[0;36m\u001b[0m\n\u001b[0;31m    d4 = {'name':\"sudh\", 'mail_id':\"ss@gmail.com\",\"name\":}\u001b[0m\n\u001b[0m                                                        ^\u001b[0m\n\u001b[0;31mSyntaxError\u001b[0m\u001b[0;31m:\u001b[0m expression expected after dictionary key and ':'\n"
     ]
    }
   ],
   "source": [
    "d4 = {'name':\"sudh\", 'mail_id':\"ss@gmail.com\",\"name\":}"
   ]
  },
  {
   "cell_type": "code",
   "execution_count": 5,
   "id": "e38453e1-6403-436d-9bd0-0d3a5996d6fc",
   "metadata": {},
   "outputs": [
    {
     "ename": "NameError",
     "evalue": "name 'd4' is not defined",
     "output_type": "error",
     "traceback": [
      "\u001b[0;31m---------------------------------------------------------------------------\u001b[0m",
      "\u001b[0;31mNameError\u001b[0m                                 Traceback (most recent call last)",
      "Cell \u001b[0;32mIn[5], line 1\u001b[0m\n\u001b[0;32m----> 1\u001b[0m \u001b[43md4\u001b[49m[\u001b[38;5;124m'\u001b[39m\u001b[38;5;124mname\u001b[39m\u001b[38;5;124m'\u001b[39m]\n",
      "\u001b[0;31mNameError\u001b[0m: name 'd4' is not defined"
     ]
    }
   ],
   "source": [
    "d4['name']"
   ]
  },
  {
   "cell_type": "code",
   "execution_count": null,
   "id": "30022e7b-8658-4164-8d70-929ca3d72dd4",
   "metadata": {},
   "outputs": [],
   "source": [
    "d5 = {"
   ]
  },
  {
   "cell_type": "code",
   "execution_count": 11,
   "id": "be0c9c0f-9452-4df8-841b-7739da0a7d46",
   "metadata": {},
   "outputs": [],
   "source": [
    "d6 = {\"number\":[2,34,3,34],\"assignment\" : (1,2,3,4,5,6), \"launch_date\":{28,12,14},\"class_time\":{\"web_dev\":8,\"data science masters\":8, \"jave with dsa and system design\":7}}"
   ]
  },
  {
   "cell_type": "code",
   "execution_count": 12,
   "id": "77bab27a-bd01-4b97-8812-26a5e942f545",
   "metadata": {},
   "outputs": [
    {
     "data": {
      "text/plain": [
       "{'number': [2, 34, 3, 34],\n",
       " 'assignment': (1, 2, 3, 4, 5, 6),\n",
       " 'launch_date': {12, 14, 28},\n",
       " 'class_time': {'web_dev': 8,\n",
       "  'data science masters': 8,\n",
       "  'jave with dsa and system design': 7}}"
      ]
     },
     "execution_count": 12,
     "metadata": {},
     "output_type": "execute_result"
    }
   ],
   "source": [
    "d6"
   ]
  },
  {
   "cell_type": "code",
   "execution_count": 14,
   "id": "4b335e35-3a07-4d3d-860c-c3a29eb1fdf2",
   "metadata": {},
   "outputs": [
    {
     "data": {
      "text/plain": [
       "{'web_dev': 8, 'data science masters': 8, 'jave with dsa and system design': 7}"
      ]
     },
     "execution_count": 14,
     "metadata": {},
     "output_type": "execute_result"
    }
   ],
   "source": [
    "d6[\"class_time\"]"
   ]
  },
  {
   "cell_type": "code",
   "execution_count": 15,
   "id": "480115aa-d6d3-4f60-8048-7cf6ae631f66",
   "metadata": {},
   "outputs": [
    {
     "data": {
      "text/plain": [
       "7"
      ]
     },
     "execution_count": 15,
     "metadata": {},
     "output_type": "execute_result"
    }
   ],
   "source": [
    "d6['class_time']['jave with dsa and system design']"
   ]
  },
  {
   "cell_type": "code",
   "execution_count": 16,
   "id": "35089e70-07eb-4fc0-a1c9-b668a593239a",
   "metadata": {},
   "outputs": [
    {
     "data": {
      "text/plain": [
       "{'number': [2, 34, 3, 34],\n",
       " 'assignment': (1, 2, 3, 4, 5, 6),\n",
       " 'launch_date': {12, 14, 28},\n",
       " 'class_time': {'web_dev': 8,\n",
       "  'data science masters': 8,\n",
       "  'jave with dsa and system design': 7}}"
      ]
     },
     "execution_count": 16,
     "metadata": {},
     "output_type": "execute_result"
    }
   ],
   "source": [
    "d6"
   ]
  },
  {
   "cell_type": "code",
   "execution_count": 18,
   "id": "5500844a-181f-488d-b6be-12fb4deacc4c",
   "metadata": {},
   "outputs": [],
   "source": [
    "d6['mentor'] = [\"sudhanshu\",\"krish\",\"anurag\",'hayder']"
   ]
  },
  {
   "cell_type": "code",
   "execution_count": 19,
   "id": "556da79c-8f8b-463f-abbb-5e52aa12f487",
   "metadata": {},
   "outputs": [
    {
     "data": {
      "text/plain": [
       "{'number': [2, 34, 3, 34],\n",
       " 'assignment': (1, 2, 3, 4, 5, 6),\n",
       " 'launch_date': {12, 14, 28},\n",
       " 'class_time': {'web_dev': 8,\n",
       "  'data science masters': 8,\n",
       "  'jave with dsa and system design': 7},\n",
       " 'mentor': ['sudhanshu', 'krish', 'anurag', 'hayder']}"
      ]
     },
     "execution_count": 19,
     "metadata": {},
     "output_type": "execute_result"
    }
   ],
   "source": [
    "d6"
   ]
  },
  {
   "cell_type": "code",
   "execution_count": 20,
   "id": "bb50e9c7-7358-43f5-8cd7-653ab9f4b131",
   "metadata": {},
   "outputs": [],
   "source": [
    "del d6['number']"
   ]
  },
  {
   "cell_type": "code",
   "execution_count": 21,
   "id": "3e070831-2d52-479d-84f2-c8ac0d34d4e5",
   "metadata": {},
   "outputs": [
    {
     "data": {
      "text/plain": [
       "{'assignment': (1, 2, 3, 4, 5, 6),\n",
       " 'launch_date': {12, 14, 28},\n",
       " 'class_time': {'web_dev': 8,\n",
       "  'data science masters': 8,\n",
       "  'jave with dsa and system design': 7},\n",
       " 'mentor': ['sudhanshu', 'krish', 'anurag', 'hayder']}"
      ]
     },
     "execution_count": 21,
     "metadata": {},
     "output_type": "execute_result"
    }
   ],
   "source": [
    "d6"
   ]
  },
  {
   "cell_type": "code",
   "execution_count": 22,
   "id": "91b99a05-6534-440f-a107-5873368adeae",
   "metadata": {},
   "outputs": [
    {
     "data": {
      "text/plain": [
       "dict_keys(['assignment', 'launch_date', 'class_time', 'mentor'])"
      ]
     },
     "execution_count": 22,
     "metadata": {},
     "output_type": "execute_result"
    }
   ],
   "source": [
    "d6.keys()"
   ]
  },
  {
   "cell_type": "code",
   "execution_count": 23,
   "id": "5100f5af-a387-4a3d-96cf-500981558a60",
   "metadata": {},
   "outputs": [
    {
     "data": {
      "text/plain": [
       "dict_values([(1, 2, 3, 4, 5, 6), {28, 12, 14}, {'web_dev': 8, 'data science masters': 8, 'jave with dsa and system design': 7}, ['sudhanshu', 'krish', 'anurag', 'hayder']])"
      ]
     },
     "execution_count": 23,
     "metadata": {},
     "output_type": "execute_result"
    }
   ],
   "source": [
    "d6.values()"
   ]
  },
  {
   "cell_type": "code",
   "execution_count": 24,
   "id": "aef784fb-ce46-4c6e-ad5f-b3cb77d672ba",
   "metadata": {},
   "outputs": [
    {
     "data": {
      "text/plain": [
       "[(1, 2, 3, 4, 5, 6),\n",
       " {12, 14, 28},\n",
       " {'web_dev': 8,\n",
       "  'data science masters': 8,\n",
       "  'jave with dsa and system design': 7},\n",
       " ['sudhanshu', 'krish', 'anurag', 'hayder']]"
      ]
     },
     "execution_count": 24,
     "metadata": {},
     "output_type": "execute_result"
    }
   ],
   "source": [
    "list(d6.values())"
   ]
  },
  {
   "cell_type": "code",
   "execution_count": 25,
   "id": "a0220203-943e-417c-aec0-18bfddb38f5a",
   "metadata": {},
   "outputs": [
    {
     "data": {
      "text/plain": [
       "dict_items([('assignment', (1, 2, 3, 4, 5, 6)), ('launch_date', {28, 12, 14}), ('class_time', {'web_dev': 8, 'data science masters': 8, 'jave with dsa and system design': 7}), ('mentor', ['sudhanshu', 'krish', 'anurag', 'hayder'])])"
      ]
     },
     "execution_count": 25,
     "metadata": {},
     "output_type": "execute_result"
    }
   ],
   "source": [
    "d6.items()"
   ]
  },
  {
   "cell_type": "code",
   "execution_count": 26,
   "id": "9f823aec-2aa2-445f-82f0-a123e8171506",
   "metadata": {},
   "outputs": [
    {
     "data": {
      "text/plain": [
       "[('assignment', (1, 2, 3, 4, 5, 6)),\n",
       " ('launch_date', {12, 14, 28}),\n",
       " ('class_time',\n",
       "  {'web_dev': 8,\n",
       "   'data science masters': 8,\n",
       "   'jave with dsa and system design': 7}),\n",
       " ('mentor', ['sudhanshu', 'krish', 'anurag', 'hayder'])]"
      ]
     },
     "execution_count": 26,
     "metadata": {},
     "output_type": "execute_result"
    }
   ],
   "source": [
    "list(d6.items())"
   ]
  },
  {
   "cell_type": "code",
   "execution_count": 27,
   "id": "120999e4-7f22-4abe-8563-e6da7c90af1c",
   "metadata": {},
   "outputs": [
    {
     "data": {
      "text/plain": [
       "'hayder'"
      ]
     },
     "execution_count": 27,
     "metadata": {},
     "output_type": "execute_result"
    }
   ],
   "source": [
    "d6['mentor'][3]"
   ]
  },
  {
   "cell_type": "code",
   "execution_count": 28,
   "id": "9c994769-38a2-4c67-a9bf-085abe89701b",
   "metadata": {},
   "outputs": [
    {
     "data": {
      "text/plain": [
       "{'assignment': (1, 2, 3, 4, 5, 6),\n",
       " 'launch_date': {12, 14, 28},\n",
       " 'class_time': {'web_dev': 8,\n",
       "  'data science masters': 8,\n",
       "  'jave with dsa and system design': 7},\n",
       " 'mentor': ['sudhanshu', 'krish', 'anurag', 'hayder']}"
      ]
     },
     "execution_count": 28,
     "metadata": {},
     "output_type": "execute_result"
    }
   ],
   "source": [
    "d6"
   ]
  },
  {
   "cell_type": "code",
   "execution_count": 29,
   "id": "bedcf8a8-6e54-4fea-ba41-4dab1cb3d098",
   "metadata": {},
   "outputs": [
    {
     "data": {
      "text/plain": [
       "(1, 2, 3, 4, 5, 6)"
      ]
     },
     "execution_count": 29,
     "metadata": {},
     "output_type": "execute_result"
    }
   ],
   "source": [
    "d6.pop('assignment')"
   ]
  },
  {
   "cell_type": "code",
   "execution_count": 30,
   "id": "27a3f099-93ce-4810-8b92-06940b176b8c",
   "metadata": {},
   "outputs": [
    {
     "data": {
      "text/plain": [
       "{'launch_date': {12, 14, 28},\n",
       " 'class_time': {'web_dev': 8,\n",
       "  'data science masters': 8,\n",
       "  'jave with dsa and system design': 7},\n",
       " 'mentor': ['sudhanshu', 'krish', 'anurag', 'hayder']}"
      ]
     },
     "execution_count": 30,
     "metadata": {},
     "output_type": "execute_result"
    }
   ],
   "source": [
    "d6"
   ]
  },
  {
   "cell_type": "code",
   "execution_count": 31,
   "id": "a769b56c-9155-465b-8704-a51e3edd3f41",
   "metadata": {},
   "outputs": [
    {
     "ename": "TypeError",
     "evalue": "pop expected at least 1 argument, got 0",
     "output_type": "error",
     "traceback": [
      "\u001b[0;31m---------------------------------------------------------------------------\u001b[0m",
      "\u001b[0;31mTypeError\u001b[0m                                 Traceback (most recent call last)",
      "Cell \u001b[0;32mIn[31], line 1\u001b[0m\n\u001b[0;32m----> 1\u001b[0m \u001b[43md6\u001b[49m\u001b[38;5;241;43m.\u001b[39;49m\u001b[43mpop\u001b[49m\u001b[43m(\u001b[49m\u001b[43m)\u001b[49m\n",
      "\u001b[0;31mTypeError\u001b[0m: pop expected at least 1 argument, got 0"
     ]
    }
   ],
   "source": [
    "d6.pop()"
   ]
  },
  {
   "cell_type": "code",
   "execution_count": 41,
   "id": "5fb1d985-4e95-4521-8f37-44aaa841de72",
   "metadata": {
    "tags": []
   },
   "outputs": [
    {
     "name": "stdout",
     "output_type": "stream",
     "text": [
      " you will be a part of A3 batch\n"
     ]
    }
   ],
   "source": [
    "marks = 10\n",
    "if marks >= 80 :\n",
    "    print(\"you will be a part of A0 batch\")\n",
    "elif marks >= 60 and marks < 80 :\n",
    "    print(\"you will be a part of A1 batch\")\n",
    "elif marks >= 40 and marks < 60 :\n",
    "    print (\"you will be a part of A2 batch\")\n",
    "else :\n",
    "    print(\" you will be a part of A3 batch\")\n",
    "    "
   ]
  },
  {
   "cell_type": "code",
   "execution_count": 42,
   "id": "d47226c3-3c47-4100-90cf-5fe396950cef",
   "metadata": {},
   "outputs": [
    {
     "data": {
      "text/plain": [
       "False"
      ]
     },
     "execution_count": 42,
     "metadata": {},
     "output_type": "execute_result"
    }
   ],
   "source": [
    "10 >=80"
   ]
  },
  {
   "cell_type": "code",
   "execution_count": 46,
   "id": "74f3a28c-9ab3-4cf6-a692-5984f0500e15",
   "metadata": {},
   "outputs": [
    {
     "name": "stdin",
     "output_type": "stream",
     "text": [
      "enter the marks 45\n"
     ]
    }
   ],
   "source": [
    "marks = int(input(\"enter the marks\"))"
   ]
  },
  {
   "cell_type": "code",
   "execution_count": 47,
   "id": "60f587f4-e1f1-4204-81d4-76083ba11871",
   "metadata": {},
   "outputs": [
    {
     "data": {
      "text/plain": [
       "45"
      ]
     },
     "execution_count": 47,
     "metadata": {},
     "output_type": "execute_result"
    }
   ],
   "source": [
    "marks"
   ]
  },
  {
   "cell_type": "code",
   "execution_count": 51,
   "id": "05886dea-acf0-4c98-bce8-df9d12117d34",
   "metadata": {},
   "outputs": [
    {
     "data": {
      "text/plain": [
       "int"
      ]
     },
     "execution_count": 51,
     "metadata": {},
     "output_type": "execute_result"
    }
   ],
   "source": [
    "type (marks)"
   ]
  },
  {
   "cell_type": "code",
   "execution_count": 50,
   "id": "c11f0283-7093-442f-8300-f78a9151ac91",
   "metadata": {},
   "outputs": [
    {
     "name": "stdin",
     "output_type": "stream",
     "text": [
      "enter the marks 90\n"
     ]
    },
    {
     "name": "stdout",
     "output_type": "stream",
     "text": [
      "you will be a part of A0 batch\n"
     ]
    }
   ],
   "source": [
    "marks = int(input(\"enter the marks\"))\n",
    "if marks >= 80 :\n",
    "    print(\"you will be a part of A0 batch\")\n",
    "elif marks >= 60 and marks < 80 :\n",
    "    print(\"you will be a part of A1 batch\")\n",
    "elif marks >= 40 and marks < 60 :\n",
    "    print (\"you will be a part of A2 batch\")\n",
    "else :\n",
    "    print(\" you will be a part of A3 batch\")\n",
    "    "
   ]
  },
  {
   "cell_type": "code",
   "execution_count": 54,
   "id": "0ab18532-ea95-47aa-9895-1f8a3fac0323",
   "metadata": {},
   "outputs": [
    {
     "name": "stdin",
     "output_type": "stream",
     "text": [
      "enter price  499\n"
     ]
    },
    {
     "name": "stdout",
     "output_type": "stream",
     "text": [
      "i will purchase\n"
     ]
    }
   ],
   "source": [
    "price = int(input(\"enter price \"))\n",
    "if price > 1000:\n",
    "    print(\" i will not purchase\")\n",
    "else :\n",
    "    print (\"i will purchase\")"
   ]
  },
  {
   "cell_type": "code",
   "execution_count": 56,
   "id": "02f78844-b64d-4647-ad96-477ee441873a",
   "metadata": {},
   "outputs": [
    {
     "name": "stdin",
     "output_type": "stream",
     "text": [
      "enter price  100\n"
     ]
    }
   ],
   "source": [
    "price = int(input(\"enter price \"))\n",
    "if price > 1000:\n",
    "    print(\" i will not purchase\")"
   ]
  },
  {
   "cell_type": "code",
   "execution_count": 58,
   "id": "bb9b4a64-10d2-4098-a5fb-49bb32f710ac",
   "metadata": {},
   "outputs": [
    {
     "name": "stdin",
     "output_type": "stream",
     "text": [
      "enter price  1001\n"
     ]
    },
    {
     "name": "stdout",
     "output_type": "stream",
     "text": [
      " i will not purchase\n",
      " its ok \n"
     ]
    }
   ],
   "source": [
    "price = int(input(\"enter price \"))\n",
    "if price > 1000:\n",
    "    print(\" i will not purchase\")\n",
    "    if price > 5000 :\n",
    "        print (\"this is too much\")\n",
    "    elif price < 2000 :\n",
    "        print (\" its ok \" )\n",
    "elif price < 1000 :\n",
    "    print ( \" its less \")"
   ]
  },
  {
   "cell_type": "code",
   "execution_count": 72,
   "id": "c181e681-3967-46d4-aa6e-6573d6b92bfd",
   "metadata": {},
   "outputs": [],
   "source": [
    "l = [1,2,3,3,4,5,6,7,8]"
   ]
  },
  {
   "cell_type": "code",
   "execution_count": 60,
   "id": "f05df5c2-0b5a-434f-9c14-e987e1a950fe",
   "metadata": {},
   "outputs": [
    {
     "data": {
      "text/plain": [
       "2"
      ]
     },
     "execution_count": 60,
     "metadata": {},
     "output_type": "execute_result"
    }
   ],
   "source": [
    "l[0] + 1"
   ]
  },
  {
   "cell_type": "code",
   "execution_count": 61,
   "id": "b73ec8a5-7465-47b5-afa4-89dabea2ac00",
   "metadata": {},
   "outputs": [
    {
     "data": {
      "text/plain": [
       "[1, 2, 3, 3, 4, 5, 6, 7, 8]"
      ]
     },
     "execution_count": 61,
     "metadata": {},
     "output_type": "execute_result"
    }
   ],
   "source": [
    "l"
   ]
  },
  {
   "cell_type": "code",
   "execution_count": 62,
   "id": "19e7f19e-45ce-49c2-9e8c-78ae831de557",
   "metadata": {},
   "outputs": [],
   "source": [
    "l1 = []"
   ]
  },
  {
   "cell_type": "code",
   "execution_count": 63,
   "id": "e7ea3396-fcbb-4709-8a06-491689897ca8",
   "metadata": {},
   "outputs": [],
   "source": [
    "l1.append(l[0] + 1 )"
   ]
  },
  {
   "cell_type": "code",
   "execution_count": 64,
   "id": "83183717-2690-4f2d-9f31-5591acb87741",
   "metadata": {},
   "outputs": [
    {
     "data": {
      "text/plain": [
       "[2]"
      ]
     },
     "execution_count": 64,
     "metadata": {},
     "output_type": "execute_result"
    }
   ],
   "source": [
    "l1"
   ]
  },
  {
   "cell_type": "code",
   "execution_count": 65,
   "id": "c567462b-03c0-4cec-a109-4b69691db76e",
   "metadata": {},
   "outputs": [
    {
     "data": {
      "text/plain": [
       "[1, 2, 3, 3, 4, 5, 6, 7, 8]"
      ]
     },
     "execution_count": 65,
     "metadata": {},
     "output_type": "execute_result"
    }
   ],
   "source": [
    "l"
   ]
  },
  {
   "cell_type": "code",
   "execution_count": 77,
   "id": "b970aef7-db7e-4ae6-b5d3-a7c5e3767f50",
   "metadata": {},
   "outputs": [
    {
     "name": "stdout",
     "output_type": "stream",
     "text": [
      "2\n",
      "3\n",
      "4\n",
      "4\n",
      "5\n",
      "6\n",
      "7\n",
      "8\n",
      "9\n"
     ]
    }
   ],
   "source": [
    "for i in l :\n",
    "    print(i+1)"
   ]
  },
  {
   "cell_type": "code",
   "execution_count": 74,
   "id": "7723d75b-312b-4050-9130-d05093a633f6",
   "metadata": {},
   "outputs": [
    {
     "data": {
      "text/plain": [
       "[1, 2, 3, 3, 4, 5, 6, 7, 8]"
      ]
     },
     "execution_count": 74,
     "metadata": {},
     "output_type": "execute_result"
    }
   ],
   "source": [
    "l"
   ]
  },
  {
   "cell_type": "code",
   "execution_count": 80,
   "id": "d498a3c3-8352-4622-ada6-2af8aaf5557c",
   "metadata": {},
   "outputs": [
    {
     "name": "stdout",
     "output_type": "stream",
     "text": [
      "2\n",
      "3\n",
      "4\n",
      "4\n",
      "5\n",
      "6\n",
      "7\n",
      "8\n",
      "9\n"
     ]
    },
    {
     "data": {
      "text/plain": [
       "[2, 3, 4, 4, 5, 6, 7, 8, 9]"
      ]
     },
     "execution_count": 80,
     "metadata": {},
     "output_type": "execute_result"
    }
   ],
   "source": [
    "l1 = []\n",
    "for i in l :\n",
    "    print(i+1)\n",
    "    l1.append(i+1)\n",
    "l1"
   ]
  },
  {
   "cell_type": "code",
   "execution_count": 81,
   "id": "a330419b-f54d-4f72-9b70-15cc27c187ed",
   "metadata": {},
   "outputs": [
    {
     "data": {
      "text/plain": [
       "[1, 2, 3, 3, 4, 5, 6, 7, 8]"
      ]
     },
     "execution_count": 81,
     "metadata": {},
     "output_type": "execute_result"
    }
   ],
   "source": [
    "l"
   ]
  },
  {
   "cell_type": "code",
   "execution_count": 82,
   "id": "c459f2ba-c4af-41c8-ba18-226020aae9bf",
   "metadata": {},
   "outputs": [],
   "source": [
    "l = [\"sudh\" , 'kumar' ,'pwskills', 'course']"
   ]
  },
  {
   "cell_type": "code",
   "execution_count": 84,
   "id": "86d1a5b9-b5d4-4c5c-b357-313e74c85a41",
   "metadata": {},
   "outputs": [],
   "source": [
    "# convert in upper case"
   ]
  },
  {
   "cell_type": "code",
   "execution_count": 86,
   "id": "da0cd604-a661-4921-b69e-f437a1fba571",
   "metadata": {},
   "outputs": [
    {
     "name": "stdout",
     "output_type": "stream",
     "text": [
      "sudh\n",
      "kumar\n",
      "pwskills\n",
      "course\n"
     ]
    }
   ],
   "source": [
    "l1 = []\n",
    "for i in l :\n",
    "    print(i)\n",
    "    l1.append(i.upper())"
   ]
  },
  {
   "cell_type": "code",
   "execution_count": 87,
   "id": "13483c45-aef0-4ff7-90d9-18f875b981a4",
   "metadata": {},
   "outputs": [
    {
     "data": {
      "text/plain": [
       "['SUDH', 'KUMAR', 'PWSKILLS', 'COURSE']"
      ]
     },
     "execution_count": 87,
     "metadata": {},
     "output_type": "execute_result"
    }
   ],
   "source": [
    "l1"
   ]
  },
  {
   "cell_type": "code",
   "execution_count": 88,
   "id": "eac5b547-1882-4345-8df5-548dd99b3510",
   "metadata": {},
   "outputs": [],
   "source": [
    "l = [1,2,3,4,4,\"sudh\", \"kumar\", 324, 34.456, \"abc\"]"
   ]
  },
  {
   "cell_type": "code",
   "execution_count": 103,
   "id": "e7dfbd8b-7b53-4399-a97e-4d4b3e63ef8f",
   "metadata": {},
   "outputs": [],
   "source": [
    "l1_num = []\n",
    "l2_str = []\n",
    "for i in l:\n",
    "    if type(i) == int or type(i) == float:\n",
    "        l1_num.append(i)\n",
    "    else :\n",
    "        l2_str.append(i)"
   ]
  },
  {
   "cell_type": "code",
   "execution_count": 104,
   "id": "dd9d4df1-2e10-439c-801b-4b125b6ebf86",
   "metadata": {},
   "outputs": [
    {
     "data": {
      "text/plain": [
       "[1, 2, 3, 4, 4, 324, 34.456]"
      ]
     },
     "execution_count": 104,
     "metadata": {},
     "output_type": "execute_result"
    }
   ],
   "source": [
    "l1_num"
   ]
  },
  {
   "cell_type": "code",
   "execution_count": 105,
   "id": "f7371776-8cf1-4027-b8c6-d6cb99225add",
   "metadata": {},
   "outputs": [
    {
     "data": {
      "text/plain": [
       "['sudh', 'kumar', 'abc']"
      ]
     },
     "execution_count": 105,
     "metadata": {},
     "output_type": "execute_result"
    }
   ],
   "source": [
    "l2_str"
   ]
  },
  {
   "cell_type": "code",
   "execution_count": null,
   "id": "e461ac2c-39fc-402b-b080-a228289fb6a4",
   "metadata": {},
   "outputs": [],
   "source": []
  }
 ],
 "metadata": {
  "kernelspec": {
   "display_name": "Python 3 (ipykernel)",
   "language": "python",
   "name": "python3"
  },
  "language_info": {
   "codemirror_mode": {
    "name": "ipython",
    "version": 3
   },
   "file_extension": ".py",
   "mimetype": "text/x-python",
   "name": "python",
   "nbconvert_exporter": "python",
   "pygments_lexer": "ipython3",
   "version": "3.10.8"
  }
 },
 "nbformat": 4,
 "nbformat_minor": 5
}
